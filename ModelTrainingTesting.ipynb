{
  "nbformat": 4,
  "nbformat_minor": 0,
  "metadata": {
    "colab": {
      "name": "ModelTrainingTesting.ipynb",
      "provenance": [],
      "collapsed_sections": [
        "zAN8A-IlpVX_"
      ],
      "authorship_tag": "ABX9TyPwB9nVscWTRrAICdmg+eu/",
      "include_colab_link": true
    },
    "kernelspec": {
      "name": "python3",
      "display_name": "Python 3"
    },
    "language_info": {
      "name": "python"
    }
  },
  "cells": [
    {
      "cell_type": "markdown",
      "metadata": {
        "id": "view-in-github",
        "colab_type": "text"
      },
      "source": [
        "<a href=\"https://colab.research.google.com/github/Jonuxs/AdvancedDataScienceCapstone/blob/main/ModelTrainingTesting.ipynb\" target=\"_parent\"><img src=\"https://colab.research.google.com/assets/colab-badge.svg\" alt=\"Open In Colab\"/></a>"
      ]
    },
    {
      "cell_type": "markdown",
      "metadata": {
        "id": "tX7CGdqcU4G1"
      },
      "source": [
        "# 1. Description\n",
        "\n",
        "In this notebook we will train and test RFC and NN models and comprate how they perform wiht different features."
      ]
    },
    {
      "cell_type": "markdown",
      "metadata": {
        "id": "xi7VkPpJVCt_"
      },
      "source": [
        "## Connect to google drive"
      ]
    },
    {
      "cell_type": "code",
      "metadata": {
        "colab": {
          "base_uri": "https://localhost:8080/"
        },
        "id": "xB4fXuzpenOi",
        "outputId": "d6794ef9-45c2-4071-86f3-3d2c50f50c12"
      },
      "source": [
        "from google.colab import drive\n",
        "drive.mount('/content/drive')"
      ],
      "execution_count": null,
      "outputs": [
        {
          "output_type": "stream",
          "text": [
            "Drive already mounted at /content/drive; to attempt to forcibly remount, call drive.mount(\"/content/drive\", force_remount=True).\n"
          ],
          "name": "stdout"
        }
      ]
    },
    {
      "cell_type": "markdown",
      "metadata": {
        "id": "feGf0OUNVExi"
      },
      "source": [
        "# 2. Imports"
      ]
    },
    {
      "cell_type": "code",
      "metadata": {
        "id": "xH26XEnJetGb"
      },
      "source": [
        "import os\n",
        "import glob\n",
        "import time\n",
        "import numpy as np\n",
        "import tensorflow as tf\n",
        "import random as random\n",
        "import re\n",
        "import datetime\n",
        "import scipy\n",
        "\n",
        "import math\n",
        "import pandas as pd\n",
        "from pandas import read_excel\n",
        "from pandas.tseries.offsets import *\n",
        "import sklearn\n",
        "from sklearn.model_selection import cross_validate, KFold\n",
        "from sklearn.linear_model import LinearRegression\n",
        "from sklearn.metrics import cohen_kappa_score\n",
        "from sklearn.model_selection import train_test_split\n",
        "from keras.layers import LeakyReLU\n",
        "\n",
        "from keras.regularizers import l1\n",
        "from keras.regularizers import l2\n",
        "\n",
        "from tensorflow.keras import layers\n",
        "from tensorflow.keras.layers import Input, Dense, Activation, ZeroPadding2D, BatchNormalization, Flatten, Conv2D, Conv1D\n",
        "from tensorflow.keras.layers import AveragePooling2D, MaxPooling2D, Dropout, GlobalMaxPooling2D, GlobalAveragePooling2D, MaxPooling1D\n",
        "from tensorflow.keras.models import Model\n",
        "from tensorflow.keras.layers import Add\n",
        "from tensorflow.keras.preprocessing import image\n",
        "from keras.utils import layer_utils\n",
        "from keras.utils.data_utils import get_file\n",
        "from tensorflow.keras.applications.imagenet_utils import preprocess_input\n",
        "from keras.utils.vis_utils import model_to_dot\n",
        "import tensorflow.keras.backend as K\n",
        "from tensorflow.keras.layers import Embedding, LSTM, Dense, Dropout, Lambda, Flatten\n",
        "from tensorflow.keras.models import Sequential, load_model, model_from_config\n",
        "import tensorflow.keras.backend as K\n",
        "import datetime \n",
        "from datetime import datetime\n",
        "from datetime import date\n",
        "from datetime import timedelta\n",
        "from matplotlib.pyplot import imshow\n",
        "import matplotlib.pyplot as plt\n",
        "from tqdm import tqdm\n",
        "\n",
        "from tensorflow.keras.layers import LeakyReLU\n",
        "\n",
        "from tensorflow.keras.regularizers import l1\n",
        "from tensorflow.keras.regularizers import l2\n",
        "\n",
        "from sklearn.metrics import recall_score\n",
        "from sklearn.metrics import precision_score\n",
        "from sklearn.metrics import f1_score\n",
        "\n",
        "from sklearn.ensemble import RandomForestClassifier\n",
        "from sklearn.datasets import make_classification\n",
        "\n",
        "from sklearn.metrics import confusion_matrix\n",
        "\n",
        "from keras.optimizers import Adam\n",
        "from keras import callbacks"
      ],
      "execution_count": null,
      "outputs": []
    },
    {
      "cell_type": "markdown",
      "metadata": {
        "id": "vjwHOVVLVGnq"
      },
      "source": [
        "# 3. Paths and variables"
      ]
    },
    {
      "cell_type": "code",
      "metadata": {
        "id": "-UoQDxnvexWQ"
      },
      "source": [
        "pathTOtfIdfall = \"/content/drive/My Drive/Side Projects/FinancialNewsSentiment/tfIdfall.csv\"\n",
        "pathTOtfIdfPca = \"/content/drive/My Drive/Side Projects/FinancialNewsSentiment/tfIdfPca.csv\"\n",
        "pathTOwordEmbeddings = \"/content/drive/My Drive/Side Projects/FinancialNewsSentiment/wordEmbeddings.npy\"\n",
        "pathTOy = \"/content/drive/My Drive/Side Projects/FinancialNewsSentiment/y.npy\""
      ],
      "execution_count": null,
      "outputs": []
    },
    {
      "cell_type": "code",
      "metadata": {
        "id": "Img2jLdjVQ_c"
      },
      "source": [
        "performanceDictionary = {}"
      ],
      "execution_count": null,
      "outputs": []
    },
    {
      "cell_type": "markdown",
      "metadata": {
        "id": "2SN2_40cXWFj"
      },
      "source": [
        "# 4. Funcitions used"
      ]
    },
    {
      "cell_type": "markdown",
      "metadata": {
        "id": "GMhenSMFYlKR"
      },
      "source": [
        "## Confusion matrix function"
      ]
    },
    {
      "cell_type": "code",
      "metadata": {
        "id": "xG0hO26cYm7b"
      },
      "source": [
        "def plot_confusion_matrix(cm,\n",
        "                          target_names,\n",
        "                          title='Confusion matrix',\n",
        "                          cmap=None,\n",
        "                          normalize=True):\n",
        "    \"\"\"\n",
        "    given a sklearn confusion matrix (cm), make a nice plot\n",
        "\n",
        "    Arguments\n",
        "    ---------\n",
        "    cm:           confusion matrix from sklearn.metrics.confusion_matrix\n",
        "\n",
        "    target_names: given classification classes such as [0, 1, 2]\n",
        "                  the class names, for example: ['high', 'medium', 'low']\n",
        "\n",
        "    title:        the text to display at the top of the matrix\n",
        "\n",
        "    cmap:         the gradient of the values displayed from matplotlib.pyplot.cm\n",
        "                  see http://matplotlib.org/examples/color/colormaps_reference.html\n",
        "                  plt.get_cmap('jet') or plt.cm.Blues\n",
        "\n",
        "    normalize:    If False, plot the raw numbers\n",
        "                  If True, plot the proportions\n",
        "\n",
        "    Usage\n",
        "    -----\n",
        "    plot_confusion_matrix(cm           = cm,                  # confusion matrix created by\n",
        "                                                              # sklearn.metrics.confusion_matrix\n",
        "                          normalize    = True,                # show proportions\n",
        "                          target_names = y_labels_vals,       # list of names of the classes\n",
        "                          title        = best_estimator_name) # title of graph\n",
        "\n",
        "    Citiation\n",
        "    ---------\n",
        "    http://scikit-learn.org/stable/auto_examples/model_selection/plot_confusion_matrix.html\n",
        "\n",
        "    \"\"\"\n",
        "    import matplotlib.pyplot as plt\n",
        "    import numpy as np\n",
        "    import itertools\n",
        "\n",
        "    accuracy = np.trace(cm) / np.sum(cm).astype('float')\n",
        "    misclass = 1 - accuracy\n",
        "\n",
        "    if cmap is None:\n",
        "        cmap = plt.get_cmap('Blues')\n",
        "\n",
        "    plt.figure(figsize=(8, 6))\n",
        "    plt.imshow(cm, interpolation='nearest', cmap=cmap)\n",
        "    plt.title(title)\n",
        "    plt.colorbar()\n",
        "\n",
        "    if target_names is not None:\n",
        "        tick_marks = np.arange(len(target_names))\n",
        "        plt.xticks(tick_marks, target_names, rotation=45)\n",
        "        plt.yticks(tick_marks, target_names)\n",
        "\n",
        "    if normalize:\n",
        "        cm = cm.astype('float') / cm.sum(axis=1)[:, np.newaxis]\n",
        "\n",
        "\n",
        "    thresh = cm.max() / 1.5 if normalize else cm.max() / 2\n",
        "    for i, j in itertools.product(range(cm.shape[0]), range(cm.shape[1])):\n",
        "        if normalize:\n",
        "            plt.text(j, i, \"{:0.4f}\".format(cm[i, j]),\n",
        "                     horizontalalignment=\"center\",\n",
        "                     color=\"white\" if cm[i, j] > thresh else \"black\")\n",
        "        else:\n",
        "            plt.text(j, i, \"{:,}\".format(cm[i, j]),\n",
        "                     horizontalalignment=\"center\",\n",
        "                     color=\"white\" if cm[i, j] > thresh else \"black\")\n",
        "\n",
        "\n",
        "    plt.tight_layout()\n",
        "    plt.ylabel('True label')\n",
        "    plt.xlabel('Predicted label\\naccuracy={:0.4f}; misclass={:0.4f}'.format(accuracy, misclass))\n",
        "    plt.show()"
      ],
      "execution_count": null,
      "outputs": []
    },
    {
      "cell_type": "markdown",
      "metadata": {
        "id": "paMJUWJ5XQZ7"
      },
      "source": [
        "## Check precision, recall, f1 score"
      ]
    },
    {
      "cell_type": "code",
      "metadata": {
        "id": "_NlCHDJ4XQ7u"
      },
      "source": [
        "def assesRecallPrecisionF1Score(test_y,predictions, name_model_features, performanceDictionary):\n",
        "  y_test_label = []\n",
        "  predictions_label = [] \n",
        "  for i in range(len(predictions)):\n",
        "    predictions_label.append(np.argmax(predictions[i]))\n",
        "    y_test_label.append(np.argmax(test_y[i]))\n",
        "\n",
        "  performanceDictionary[name_model_features + \"_f1_weighted\"] = f1_score(y_test_label, predictions_label, average='weighted')\n",
        "  performanceDictionary[name_model_features + \"_f1_micro\"] = f1_score(y_test_label, predictions_label, average='micro')\n",
        "  performanceDictionary[name_model_features + \"_f1_macro\"] = f1_score(y_test_label, predictions_label, average='macro')\n",
        "  print(\"F1_weighted: \" + str(performanceDictionary[name_model_features + \"_f1_weighted\"]))\n",
        "  print(\"F1_micro: \" + str(performanceDictionary[name_model_features + \"_f1_micro\"]))\n",
        "  print(\"F1_macro: \" + str(performanceDictionary[name_model_features + \"_f1_macro\"]))\n",
        "  print(\"\")\n",
        "\n",
        "  performanceDictionary[name_model_features + \"_recall_weighted\"] = recall_score(y_test_label, predictions_label, average='weighted')\n",
        "  performanceDictionary[name_model_features + \"_recall_micro\"] = recall_score(y_test_label, predictions_label, average='micro')\n",
        "  performanceDictionary[name_model_features + \"_recall_macro\"] = recall_score(y_test_label, predictions_label, average='macro')\n",
        "  print(\"Recall_weighted: \" + str(performanceDictionary[name_model_features + \"_recall_weighted\"]))\n",
        "  print(\"Recall_micro: \" + str(performanceDictionary[name_model_features + \"_recall_micro\"]))\n",
        "  print(\"Recall_macro: \" + str(performanceDictionary[name_model_features + \"_recall_macro\"]))\n",
        "  print(\"\")\n",
        "\n",
        "  performanceDictionary[name_model_features + \"_precision_weighted\"] = precision_score(y_test_label, predictions_label, average='weighted')\n",
        "  performanceDictionary[name_model_features + \"_precision_micro\"] = precision_score(y_test_label, predictions_label, average='micro')\n",
        "  performanceDictionary[name_model_features + \"_precision_macro\"] = precision_score(y_test_label, predictions_label, average='macro')\n",
        "  print(\"Precision_weighted: \" + str(performanceDictionary[name_model_features + \"_precision_weighted\"]))\n",
        "  print(\"Precision_micro: \" + str(performanceDictionary[name_model_features + \"_precision_micro\"]))\n",
        "  print(\"Precision_macro: \" + str(performanceDictionary[name_model_features + \"_precision_macro\"]))\n",
        "\n",
        "  return(performanceDictionary)"
      ],
      "execution_count": null,
      "outputs": []
    },
    {
      "cell_type": "markdown",
      "metadata": {
        "id": "_5dhylHra7vH"
      },
      "source": [
        "## Compute accuracy"
      ]
    },
    {
      "cell_type": "code",
      "metadata": {
        "id": "scWm0tpcZA7T"
      },
      "source": [
        "def computeAccuracy(predictions, test_y, name_model_features, performanceDictionary):\n",
        "  corr = 0\n",
        "  for i in range(test_y.shape[0]):\n",
        "    if(np.all(predictions[i] == test_y[i])):\n",
        "      corr = corr + 1\n",
        "      #print(i)\n",
        "  acc = corr/test_y.shape[0]\n",
        "  performanceDictionary[name_model_features + \"_accuracy\"] = acc\n",
        "  print(\"Accuracy: \" + str(acc))\n",
        "  return(performanceDictionary)"
      ],
      "execution_count": null,
      "outputs": []
    },
    {
      "cell_type": "code",
      "metadata": {
        "id": "T9_zGu-jfLq4"
      },
      "source": [
        "def computeAccuracyNN(predictions, test_y, name_model_features, performanceDictionary):\n",
        "  corr = 0\n",
        "  for i in range(test_y.shape[0]):\n",
        "    if(np.argmax(predictions[i]) == np.argmax(test_y[i])):\n",
        "      corr = corr + 1\n",
        "      #print(i)\n",
        "  acc = corr/test_y.shape[0]\n",
        "  performanceDictionary[name_model_features + \"_accuracy\"] = acc\n",
        "  print(\"Accuracy: \" + str(acc))\n",
        "  return(performanceDictionary)"
      ],
      "execution_count": null,
      "outputs": []
    },
    {
      "cell_type": "markdown",
      "metadata": {
        "id": "Oq5UnUC5a4Vj"
      },
      "source": [
        "## Create and plot confusion matrix"
      ]
    },
    {
      "cell_type": "code",
      "metadata": {
        "id": "BL5alkita40q"
      },
      "source": [
        "def createAndPlotCM(predictions, test_y):\n",
        "  predictions_label = []\n",
        "  y_test_label = []\n",
        "  for i in range(test_y.shape[0]):\n",
        "    predictions_label.append(np.argmax(predictions[i]))\n",
        "    y_test_label.append(np.argmax(test_y[i]))\n",
        "\n",
        "  cm = confusion_matrix(y_test_label, predictions_label)\n",
        "\n",
        "  plot_confusion_matrix(cm, [ \"ham\",\"spam\"], normalize = False)"
      ],
      "execution_count": null,
      "outputs": []
    },
    {
      "cell_type": "markdown",
      "metadata": {
        "id": "Iin_PuDyjoJY"
      },
      "source": [
        "# 5. Split into train and test"
      ]
    },
    {
      "cell_type": "code",
      "metadata": {
        "id": "leFmvfeHjpsD"
      },
      "source": [
        "tfIdfall = pd.read_csv(pathTOtfIdfall)\n",
        "tfIdfPca = pd.read_csv(pathTOtfIdfPca)\n",
        "wordEmbeddings = np.load(pathTOwordEmbeddings)\n",
        "y = np.load(pathTOy)"
      ],
      "execution_count": null,
      "outputs": []
    },
    {
      "cell_type": "code",
      "metadata": {
        "colab": {
          "base_uri": "https://localhost:8080/"
        },
        "id": "bdBJ4gmhj41k",
        "outputId": "a7b48c73-9467-4338-9c4e-801aefaaec55"
      },
      "source": [
        "print(tfIdfall.shape)\n",
        "print(tfIdfPca.shape)\n",
        "print(wordEmbeddings.shape)\n",
        "print(y.shape)"
      ],
      "execution_count": null,
      "outputs": [
        {
          "output_type": "stream",
          "text": [
            "(5572, 6665)\n",
            "(5572, 50)\n",
            "(5572, 15, 300)\n",
            "(5572, 2)\n"
          ],
          "name": "stdout"
        }
      ]
    },
    {
      "cell_type": "code",
      "metadata": {
        "id": "GhX2wTJykE6L"
      },
      "source": [
        "train_tfIdfall = tfIdfall[0:4000]\n",
        "train_tfIdfPca = tfIdfPca[0:4000]\n",
        "train_wordEmbeddings = wordEmbeddings[0:4000]\n",
        "train_y = y[0:4000]\n",
        "\n",
        "test_tfIdfall = tfIdfall[4000:]\n",
        "test_tfIdfPca = tfIdfPca[4000:]\n",
        "test_wordEmbeddings = wordEmbeddings[4000:]\n",
        "test_y = y[4000:]"
      ],
      "execution_count": null,
      "outputs": []
    },
    {
      "cell_type": "markdown",
      "metadata": {
        "id": "6Mz_uwSYiE3H"
      },
      "source": [
        "# Random Forest Classifier"
      ]
    },
    {
      "cell_type": "markdown",
      "metadata": {
        "id": "q5AUhPr9jjFo"
      },
      "source": [
        "## TF-IDF"
      ]
    },
    {
      "cell_type": "code",
      "metadata": {
        "id": "FiUMJSTLiSiZ"
      },
      "source": [
        "clf = RandomForestClassifier(max_depth=150, random_state=0)"
      ],
      "execution_count": null,
      "outputs": []
    },
    {
      "cell_type": "code",
      "metadata": {
        "colab": {
          "base_uri": "https://localhost:8080/"
        },
        "id": "JSdnWXU0iUAs",
        "outputId": "e70b0c7d-f949-4e8e-809d-45bbcb05be25"
      },
      "source": [
        "clf.fit(train_tfIdfall, train_y)"
      ],
      "execution_count": null,
      "outputs": [
        {
          "output_type": "execute_result",
          "data": {
            "text/plain": [
              "RandomForestClassifier(bootstrap=True, ccp_alpha=0.0, class_weight=None,\n",
              "                       criterion='gini', max_depth=150, max_features='auto',\n",
              "                       max_leaf_nodes=None, max_samples=None,\n",
              "                       min_impurity_decrease=0.0, min_impurity_split=None,\n",
              "                       min_samples_leaf=1, min_samples_split=2,\n",
              "                       min_weight_fraction_leaf=0.0, n_estimators=100,\n",
              "                       n_jobs=None, oob_score=False, random_state=0, verbose=0,\n",
              "                       warm_start=False)"
            ]
          },
          "metadata": {
            "tags": []
          },
          "execution_count": 14
        }
      ]
    },
    {
      "cell_type": "code",
      "metadata": {
        "id": "sMMTQjluUpjd"
      },
      "source": [
        "predictions = clf.predict(test_tfIdfall)"
      ],
      "execution_count": null,
      "outputs": []
    },
    {
      "cell_type": "code",
      "metadata": {
        "colab": {
          "base_uri": "https://localhost:8080/"
        },
        "id": "SbOEKf03ZDbn",
        "outputId": "66e17618-a12b-4016-f50b-23bd5f82c55d"
      },
      "source": [
        "performanceDictionary = computeAccuracy(predictions, test_y, \"RF_tfidf\", performanceDictionary)"
      ],
      "execution_count": null,
      "outputs": [
        {
          "output_type": "stream",
          "text": [
            "Accuracy: 0.9751908396946565\n"
          ],
          "name": "stdout"
        }
      ]
    },
    {
      "cell_type": "code",
      "metadata": {
        "colab": {
          "base_uri": "https://localhost:8080/",
          "height": 467
        },
        "id": "EWFO7_zVXl6Y",
        "outputId": "64782fe6-5a7d-4d80-d3f5-8e7bd87b02da"
      },
      "source": [
        "createAndPlotCM(predictions, test_y)"
      ],
      "execution_count": null,
      "outputs": [
        {
          "output_type": "display_data",
          "data": {
            "image/png": "[encoded data removed]",
            "text/plain": [
              "<Figure size 576x432 with 2 Axes>"
            ]
          },
          "metadata": {
            "tags": [],
            "needs_background": "light"
          }
        }
      ]
    },
    {
      "cell_type": "code",
      "metadata": {
        "colab": {
          "base_uri": "https://localhost:8080/"
        },
        "id": "NH_Xvp1mX1gJ",
        "outputId": "58e541e6-aa89-4f5c-9b06-33808467b1a4"
      },
      "source": [
        "performanceDictionary = assesRecallPrecisionF1Score(test_y, predictions, \"RF_tfidf\", performanceDictionary)"
      ],
      "execution_count": null,
      "outputs": [
        {
          "output_type": "stream",
          "text": [
            "F1_weighted: 0.9742381597154834\n",
            "F1_micro: 0.9751908396946565\n",
            "F1_macro: 0.9430446952545607\n",
            "\n",
            "Recall_weighted: 0.9751908396946565\n",
            "Recall_micro: 0.9751908396946565\n",
            "Recall_macro: 0.9124097047331821\n",
            "\n",
            "Precision_weighted: 0.975531630357297\n",
            "Precision_micro: 0.9751908396946565\n",
            "Precision_macro: 0.9811108603485241\n"
          ],
          "name": "stdout"
        }
      ]
    },
    {
      "cell_type": "markdown",
      "metadata": {
        "id": "WSwFAGl5lRnd"
      },
      "source": [
        "## TF-IDF with PCA"
      ]
    },
    {
      "cell_type": "code",
      "metadata": {
        "id": "VIS1dhlDlSTA"
      },
      "source": [
        "clf = RandomForestClassifier(max_depth=150, random_state=0)"
      ],
      "execution_count": null,
      "outputs": []
    },
    {
      "cell_type": "code",
      "metadata": {
        "colab": {
          "base_uri": "https://localhost:8080/"
        },
        "id": "w714oaJnlTak",
        "outputId": "1d949562-7622-4489-a25a-33c637d204e5"
      },
      "source": [
        "clf.fit(train_tfIdfPca, train_y)"
      ],
      "execution_count": null,
      "outputs": [
        {
          "output_type": "execute_result",
          "data": {
            "text/plain": [
              "RandomForestClassifier(bootstrap=True, ccp_alpha=0.0, class_weight=None,\n",
              "                       criterion='gini', max_depth=150, max_features='auto',\n",
              "                       max_leaf_nodes=None, max_samples=None,\n",
              "                       min_impurity_decrease=0.0, min_impurity_split=None,\n",
              "                       min_samples_leaf=1, min_samples_split=2,\n",
              "                       min_weight_fraction_leaf=0.0, n_estimators=100,\n",
              "                       n_jobs=None, oob_score=False, random_state=0, verbose=0,\n",
              "                       warm_start=False)"
            ]
          },
          "metadata": {
            "tags": []
          },
          "execution_count": 20
        }
      ]
    },
    {
      "cell_type": "code",
      "metadata": {
        "id": "UChANbHiYU5v"
      },
      "source": [
        "predictions = clf.predict(test_tfIdfPca)"
      ],
      "execution_count": null,
      "outputs": []
    },
    {
      "cell_type": "code",
      "metadata": {
        "colab": {
          "base_uri": "https://localhost:8080/"
        },
        "id": "rZtZSi5zbMEe",
        "outputId": "60ed5479-59d4-49fc-adeb-96bce06f2196"
      },
      "source": [
        "performanceDictionary = computeAccuracy(predictions, test_y, \"RF_tfidfpca\", performanceDictionary)"
      ],
      "execution_count": null,
      "outputs": [
        {
          "output_type": "stream",
          "text": [
            "Accuracy: 0.9745547073791349\n"
          ],
          "name": "stdout"
        }
      ]
    },
    {
      "cell_type": "code",
      "metadata": {
        "colab": {
          "base_uri": "https://localhost:8080/"
        },
        "id": "e92TffdJbRWl",
        "outputId": "5cd838b9-bb78-41c5-885e-af9473204e41"
      },
      "source": [
        "createAndPlotCM(predictions, test_y)"
      ],
      "execution_count": null,
      "outputs": [
        {
          "output_type": "display_data",
          "data": {
            "image/png": "[encoded data removed]",
            "text/plain": [
              "<Figure size 576x432 with 2 Axes>"
            ]
          },
          "metadata": {
            "tags": [],
            "needs_background": "light"
          }
        }
      ]
    },
    {
      "cell_type": "code",
      "metadata": {
        "colab": {
          "base_uri": "https://localhost:8080/"
        },
        "id": "LcxRYvVJbV3_",
        "outputId": "8284117c-42cd-42fe-826c-6f4f971aec9c"
      },
      "source": [
        "performanceDictionary = assesRecallPrecisionF1Score(test_y,predictions, \"RF_tfidfpca\", performanceDictionary)"
      ],
      "execution_count": null,
      "outputs": [
        {
          "output_type": "stream",
          "text": [
            "F1_weighted: 0.9736694413425532\n",
            "F1_micro: 0.9745547073791349\n",
            "F1_macro: 0.9419658514074758\n",
            "\n",
            "Recall_weighted: 0.9745547073791349\n",
            "Recall_micro: 0.9745547073791349\n",
            "Recall_macro: 0.9140212874006364\n",
            "\n",
            "Precision_weighted: 0.9746316786540635\n",
            "Precision_micro: 0.9745547073791349\n",
            "Precision_macro: 0.9760099455457538\n"
          ],
          "name": "stdout"
        }
      ]
    },
    {
      "cell_type": "markdown",
      "metadata": {
        "id": "sXubv5_YlLJd"
      },
      "source": [
        "## Word Embeddings"
      ]
    },
    {
      "cell_type": "code",
      "metadata": {
        "id": "Bd99f17PjUoW"
      },
      "source": [
        "clf = RandomForestClassifier(max_depth=150, random_state=0)"
      ],
      "execution_count": null,
      "outputs": []
    },
    {
      "cell_type": "code",
      "metadata": {
        "id": "HEfc5XV1lday"
      },
      "source": [
        "train_wordEmbeddingsRF = np.reshape(train_wordEmbeddings, [train_wordEmbeddings.shape[0],train_wordEmbeddings.shape[1]*train_wordEmbeddings.shape[2]])"
      ],
      "execution_count": null,
      "outputs": []
    },
    {
      "cell_type": "code",
      "metadata": {
        "colab": {
          "base_uri": "https://localhost:8080/"
        },
        "id": "QAq-9DkblXQM",
        "outputId": "0f361b8a-4b7e-4ca8-b883-f3cb3b2dd936"
      },
      "source": [
        "clf.fit(train_wordEmbeddingsRF, train_y)"
      ],
      "execution_count": null,
      "outputs": [
        {
          "output_type": "execute_result",
          "data": {
            "text/plain": [
              "RandomForestClassifier(bootstrap=True, ccp_alpha=0.0, class_weight=None,\n",
              "                       criterion='gini', max_depth=150, max_features='auto',\n",
              "                       max_leaf_nodes=None, max_samples=None,\n",
              "                       min_impurity_decrease=0.0, min_impurity_split=None,\n",
              "                       min_samples_leaf=1, min_samples_split=2,\n",
              "                       min_weight_fraction_leaf=0.0, n_estimators=100,\n",
              "                       n_jobs=None, oob_score=False, random_state=0, verbose=0,\n",
              "                       warm_start=False)"
            ]
          },
          "metadata": {
            "tags": []
          },
          "execution_count": 27
        }
      ]
    },
    {
      "cell_type": "code",
      "metadata": {
        "id": "ylhZJoLqZSPc"
      },
      "source": [
        "test_wordEmbeddingsRF = np.reshape(test_wordEmbeddings, [test_wordEmbeddings.shape[0],test_wordEmbeddings.shape[1]*test_wordEmbeddings.shape[2]])"
      ],
      "execution_count": null,
      "outputs": []
    },
    {
      "cell_type": "code",
      "metadata": {
        "id": "lH0TEZqEY9lT"
      },
      "source": [
        "predictions = clf.predict(test_wordEmbeddingsRF)"
      ],
      "execution_count": null,
      "outputs": []
    },
    {
      "cell_type": "code",
      "metadata": {
        "colab": {
          "base_uri": "https://localhost:8080/"
        },
        "id": "-XT7eqEVbjJI",
        "outputId": "c42f6690-333f-4d86-b822-5af339a69a1a"
      },
      "source": [
        "performanceDictionary = computeAccuracy(predictions, test_y, \"RF_embeddings\", performanceDictionary)"
      ],
      "execution_count": null,
      "outputs": [
        {
          "output_type": "stream",
          "text": [
            "Accuracy: 0.9402035623409669\n"
          ],
          "name": "stdout"
        }
      ]
    },
    {
      "cell_type": "code",
      "metadata": {
        "colab": {
          "base_uri": "https://localhost:8080/"
        },
        "id": "CzzVzW5rbm03",
        "outputId": "f178361c-8710-4b50-91fd-e45b040e8a0a"
      },
      "source": [
        "createAndPlotCM(predictions, test_y)"
      ],
      "execution_count": null,
      "outputs": [
        {
          "output_type": "display_data",
          "data": {
            "image/png": "[encoded data removed]",
            "text/plain": [
              "<Figure size 576x432 with 2 Axes>"
            ]
          },
          "metadata": {
            "tags": [],
            "needs_background": "light"
          }
        }
      ]
    },
    {
      "cell_type": "code",
      "metadata": {
        "colab": {
          "base_uri": "https://localhost:8080/"
        },
        "id": "BYvav067bsox",
        "outputId": "a6879b34-1390-4a35-e38b-a6d72a468c65"
      },
      "source": [
        "performanceDictionary = assesRecallPrecisionF1Score(test_y,predictions, \"RF_embeddings\", performanceDictionary)"
      ],
      "execution_count": null,
      "outputs": [
        {
          "output_type": "stream",
          "text": [
            "F1_weighted: 0.9333570597511345\n",
            "F1_micro: 0.9402035623409668\n",
            "F1_macro: 0.844196923751724\n",
            "\n",
            "Recall_weighted: 0.9402035623409669\n",
            "Recall_micro: 0.9402035623409669\n",
            "Recall_macro: 0.7852812237664397\n",
            "\n",
            "Precision_weighted: 0.942380539890376\n",
            "Precision_micro: 0.9402035623409669\n",
            "Precision_macro: 0.9565556323427782\n"
          ],
          "name": "stdout"
        }
      ]
    },
    {
      "cell_type": "code",
      "metadata": {
        "colab": {
          "base_uri": "https://localhost:8080/"
        },
        "id": "WsQN9jqUbwOf",
        "outputId": "bcc4bae3-90a1-4951-f4df-8886598059d2"
      },
      "source": [
        "performanceDictionary"
      ],
      "execution_count": null,
      "outputs": [
        {
          "output_type": "execute_result",
          "data": {
            "text/plain": [
              "{'RF_embeddings_accuracy': 0.9402035623409669,\n",
              " 'RF_embeddings_f1_macro': 0.844196923751724,\n",
              " 'RF_embeddings_f1_micro': 0.9402035623409668,\n",
              " 'RF_embeddings_f1_weighted': 0.9333570597511345,\n",
              " 'RF_embeddings_precision_macro': 0.9565556323427782,\n",
              " 'RF_embeddings_precision_micro': 0.9402035623409669,\n",
              " 'RF_embeddings_precision_weighted': 0.942380539890376,\n",
              " 'RF_embeddings_recall_macro': 0.7852812237664397,\n",
              " 'RF_embeddings_recall_micro': 0.9402035623409669,\n",
              " 'RF_embeddings_recall_weighted': 0.9402035623409669,\n",
              " 'RF_tfidf_accuracy': 0.9751908396946565,\n",
              " 'RF_tfidf_f1_macro': 0.9430446952545607,\n",
              " 'RF_tfidf_f1_micro': 0.9751908396946565,\n",
              " 'RF_tfidf_f1_weighted': 0.9742381597154834,\n",
              " 'RF_tfidf_precision_macro': 0.9811108603485241,\n",
              " 'RF_tfidf_precision_micro': 0.9751908396946565,\n",
              " 'RF_tfidf_precision_weighted': 0.975531630357297,\n",
              " 'RF_tfidf_recall_macro': 0.9124097047331821,\n",
              " 'RF_tfidf_recall_micro': 0.9751908396946565,\n",
              " 'RF_tfidf_recall_weighted': 0.9751908396946565,\n",
              " 'RF_tfidfpca_accuracy': 0.9745547073791349,\n",
              " 'RF_tfidfpca_f1_macro': 0.9419658514074758,\n",
              " 'RF_tfidfpca_f1_micro': 0.9745547073791349,\n",
              " 'RF_tfidfpca_f1_weighted': 0.9736694413425532,\n",
              " 'RF_tfidfpca_precision_macro': 0.9760099455457538,\n",
              " 'RF_tfidfpca_precision_micro': 0.9745547073791349,\n",
              " 'RF_tfidfpca_precision_weighted': 0.9746316786540635,\n",
              " 'RF_tfidfpca_recall_macro': 0.9140212874006364,\n",
              " 'RF_tfidfpca_recall_micro': 0.9745547073791349,\n",
              " 'RF_tfidfpca_recall_weighted': 0.9745547073791349}"
            ]
          },
          "metadata": {
            "tags": []
          },
          "execution_count": 33
        }
      ]
    },
    {
      "cell_type": "markdown",
      "metadata": {
        "id": "aMbDDVRLmCfP"
      },
      "source": [
        "# Deep Learning Model"
      ]
    },
    {
      "cell_type": "markdown",
      "metadata": {
        "id": "zAN8A-IlpVX_"
      },
      "source": [
        "## TF-IDF"
      ]
    },
    {
      "cell_type": "code",
      "metadata": {
        "id": "mrp20wsElZRF"
      },
      "source": [
        "def tfIdf(input_shape):\n",
        "\n",
        "    X_input = Input(input_shape)\n",
        "\n",
        "    X = Dense(500, activity_regularizer=l2(0.01), name = \"dense_1\")(X_input)\n",
        "    X = LeakyReLU(alpha=0.1)(X)\n",
        "\n",
        "    X = Dense(250, activity_regularizer=l2(0.01), name = \"cnn_dense_2\")(X)\n",
        "    X = LeakyReLU(alpha=0.1)(X)\n",
        "\n",
        "    X = Dense(50, activity_regularizer=l2(0.01), name = \"cnn_dense_3\")(X)\n",
        "    X = Dropout(0.5, name='dropout_cnn')(X)\n",
        "\n",
        "    X = Dense(2, name='fc')(X)\n",
        "\n",
        "    model = Model(inputs = [X_input], outputs = X, name='TfIdf')\n",
        "\n",
        "    return model"
      ],
      "execution_count": null,
      "outputs": []
    },
    {
      "cell_type": "code",
      "metadata": {
        "id": "roGO4KoAmOxp"
      },
      "source": [
        "tfIdfModel = tfIdf((train_tfIdfall.shape[1]))"
      ],
      "execution_count": null,
      "outputs": []
    },
    {
      "cell_type": "code",
      "metadata": {
        "colab": {
          "base_uri": "https://localhost:8080/"
        },
        "id": "zCkMQqsNmQTC",
        "outputId": "50d8deea-725c-430b-da36-abf9eef96123"
      },
      "source": [
        "print(tfIdfModel.summary())"
      ],
      "execution_count": null,
      "outputs": [
        {
          "output_type": "stream",
          "text": [
            "Model: \"TfIdf\"\n",
            "_________________________________________________________________\n",
            "Layer (type)                 Output Shape              Param #   \n",
            "=================================================================\n",
            "input_5 (InputLayer)         [(None, 6665)]            0         \n",
            "_________________________________________________________________\n",
            "dense_1 (Dense)              (None, 500)               3333000   \n",
            "_________________________________________________________________\n",
            "leaky_re_lu_6 (LeakyReLU)    (None, 500)               0         \n",
            "_________________________________________________________________\n",
            "cnn_dense_2 (Dense)          (None, 250)               125250    \n",
            "_________________________________________________________________\n",
            "leaky_re_lu_7 (LeakyReLU)    (None, 250)               0         \n",
            "_________________________________________________________________\n",
            "cnn_dense_3 (Dense)          (None, 50)                12550     \n",
            "_________________________________________________________________\n",
            "dropout_cnn (Dropout)        (None, 50)                0         \n",
            "_________________________________________________________________\n",
            "fc (Dense)                   (None, 2)                 102       \n",
            "=================================================================\n",
            "Total params: 3,470,902\n",
            "Trainable params: 3,470,902\n",
            "Non-trainable params: 0\n",
            "_________________________________________________________________\n",
            "None\n"
          ],
          "name": "stdout"
        }
      ]
    },
    {
      "cell_type": "code",
      "metadata": {
        "colab": {
          "base_uri": "https://localhost:8080/"
        },
        "id": "i_utfIYImSzk",
        "outputId": "df0a649e-ab4c-4ebe-9d68-80abcf0a97c4"
      },
      "source": [
        "adam = Adam(lr=1e-4)"
      ],
      "execution_count": null,
      "outputs": [
        {
          "output_type": "stream",
          "text": [
            "/usr/local/lib/python3.7/dist-packages/tensorflow/python/keras/optimizer_v2/optimizer_v2.py:375: UserWarning: The `lr` argument is deprecated, use `learning_rate` instead.\n",
            "  \"The `lr` argument is deprecated, use `learning_rate` instead.\")\n"
          ],
          "name": "stderr"
        }
      ]
    },
    {
      "cell_type": "code",
      "metadata": {
        "id": "CV1zd5qwmVKx"
      },
      "source": [
        "tfIdfModel.compile(optimizer = adam, loss = \"CategoricalCrossentropy\", metrics = [\"categorical_crossentropy\"])"
      ],
      "execution_count": null,
      "outputs": []
    },
    {
      "cell_type": "code",
      "metadata": {
        "id": "3cZM2qyOmWmw"
      },
      "source": [
        "version = \"tfIdfModel\""
      ],
      "execution_count": null,
      "outputs": []
    },
    {
      "cell_type": "code",
      "metadata": {
        "id": "GxVNDDLcmYyz"
      },
      "source": [
        "mc = callbacks.ModelCheckpoint(\"/content/drive/My Drive/Side Projects/FinancialNewsSentiment/\" + str(version) + '.h5', \n",
        "                                 save_weights_only=True, save_best_only=True,monitor='val_loss', mode='min', verbose = 1)\n",
        "es = callbacks.EarlyStopping(monitor='val_loss', patience=3, verbose=1)"
      ],
      "execution_count": null,
      "outputs": []
    },
    {
      "cell_type": "code",
      "metadata": {
        "colab": {
          "base_uri": "https://localhost:8080/"
        },
        "id": "UXIkhXb0maE2",
        "outputId": "288b734a-7a67-4f2a-82f7-d1fc5b82b8ac"
      },
      "source": [
        "tfIdfModel.fit(x = train_tfIdfall  , y = train_y, epochs = 30, batch_size = 64, validation_split=0.1, callbacks=[mc, es])"
      ],
      "execution_count": null,
      "outputs": [
        {
          "output_type": "stream",
          "text": [
            "Epoch 1/30\n",
            "57/57 [==============================] - 3s 43ms/step - loss: 2.3162 - categorical_crossentropy: 2.3142 - val_loss: 0.5280 - val_categorical_crossentropy: 0.5260\n",
            "\n",
            "Epoch 00001: val_loss improved from inf to 0.52797, saving model to /content/drive/My Drive/Side Projects/FinancialNewsSentiment/tfIdfModel.h5\n",
            "Epoch 2/30\n",
            "57/57 [==============================] - 2s 38ms/step - loss: 1.9354 - categorical_crossentropy: 1.9334 - val_loss: 4.1911 - val_categorical_crossentropy: 4.1891\n",
            "\n",
            "Epoch 00002: val_loss did not improve from 0.52797\n",
            "Epoch 3/30\n",
            "57/57 [==============================] - 2s 37ms/step - loss: 3.1734 - categorical_crossentropy: 3.1714 - val_loss: 1.4845 - val_categorical_crossentropy: 1.4825\n",
            "\n",
            "Epoch 00003: val_loss did not improve from 0.52797\n",
            "Epoch 4/30\n",
            "57/57 [==============================] - 2s 39ms/step - loss: 1.7279 - categorical_crossentropy: 1.7259 - val_loss: 1.4041 - val_categorical_crossentropy: 1.4021\n",
            "\n",
            "Epoch 00004: val_loss did not improve from 0.52797\n",
            "Epoch 00004: early stopping\n"
          ],
          "name": "stdout"
        },
        {
          "output_type": "execute_result",
          "data": {
            "text/plain": [
              "<tensorflow.python.keras.callbacks.History at 0x7f10569e3d90>"
            ]
          },
          "metadata": {
            "tags": []
          },
          "execution_count": 82
        }
      ]
    },
    {
      "cell_type": "code",
      "metadata": {
        "id": "FRM2PTfEeeTm"
      },
      "source": [
        "tfIdfModel.load_weights(\"/content/drive/My Drive/Side Projects/FinancialNewsSentiment/\" + str(version) + '.h5')"
      ],
      "execution_count": null,
      "outputs": []
    },
    {
      "cell_type": "code",
      "metadata": {
        "id": "PWF6Kyz9eg9Y"
      },
      "source": [
        "predictions = tfIdfModel.predict(test_tfIdfall)"
      ],
      "execution_count": null,
      "outputs": []
    },
    {
      "cell_type": "code",
      "metadata": {
        "colab": {
          "base_uri": "https://localhost:8080/"
        },
        "id": "DrEOgluJfTot",
        "outputId": "812e497e-3eda-4d1e-d6ba-f49646fae13b"
      },
      "source": [
        "performanceDictionary = computeAccuracyNN(predictions, test_y, \"NN_tfidf\", performanceDictionary)"
      ],
      "execution_count": null,
      "outputs": [
        {
          "output_type": "stream",
          "text": [
            "Accuracy: 0.8772264631043257\n"
          ],
          "name": "stdout"
        }
      ]
    },
    {
      "cell_type": "code",
      "metadata": {
        "colab": {
          "base_uri": "https://localhost:8080/",
          "height": 467
        },
        "id": "H9nswVwce4Z0",
        "outputId": "0ff024d2-7ba7-49dd-f47a-9e4e2f3bb069"
      },
      "source": [
        "createAndPlotCM(predictions, test_y)"
      ],
      "execution_count": null,
      "outputs": [
        {
          "output_type": "display_data",
          "data": {
            "image/png": "[encoded data removed]",
            "text/plain": [
              "<Figure size 576x432 with 2 Axes>"
            ]
          },
          "metadata": {
            "tags": [],
            "needs_background": "light"
          }
        }
      ]
    },
    {
      "cell_type": "code",
      "metadata": {
        "colab": {
          "base_uri": "https://localhost:8080/"
        },
        "id": "5mbI-jOafkAX",
        "outputId": "c7b56a72-681c-4ccc-c9ab-bece87a83d86"
      },
      "source": [
        "performanceDictionary = assesRecallPrecisionF1Score(test_y,predictions, \"NN_tfidf\", performanceDictionary)"
      ],
      "execution_count": null,
      "outputs": [
        {
          "output_type": "stream",
          "text": [
            "F1_weighted: 0.832263548095113\n",
            "F1_micro: 0.8772264631043256\n",
            "F1_macro: 0.5596312697852848\n",
            "\n",
            "Recall_weighted: 0.8772264631043257\n",
            "Recall_micro: 0.8772264631043257\n",
            "Recall_macro: 0.5509073573153417\n",
            "\n",
            "Precision_weighted: 0.8820418367950766\n",
            "Precision_micro: 0.8772264631043257\n",
            "Precision_macro: 0.896640826873385\n"
          ],
          "name": "stdout"
        }
      ]
    },
    {
      "cell_type": "markdown",
      "metadata": {
        "id": "RVKACaC4pTht"
      },
      "source": [
        "## TF-IDF with PCA"
      ]
    },
    {
      "cell_type": "code",
      "metadata": {
        "id": "YcfQ-ExgnhAT"
      },
      "source": [
        "def tfIdf(input_shape):\n",
        "\n",
        "    X_input = Input(input_shape)\n",
        "\n",
        "    X = Dense(500, activity_regularizer=l2(0.01), name = \"dense_1\")(X_input)\n",
        "    X = LeakyReLU(alpha=0.1)(X)\n",
        "\n",
        "    X = Dense(250, activity_regularizer=l2(0.01), name = \"cnn_dense_2\")(X)\n",
        "    X = LeakyReLU(alpha=0.1)(X)\n",
        "\n",
        "    X = Dense(50, activity_regularizer=l2(0.01), name = \"cnn_dense_3\")(X)\n",
        "    X = Dropout(0.5, name='dropout_cnn')(X)\n",
        "\n",
        "    X = Dense(2, name='fc')(X)\n",
        "\n",
        "    model = Model(inputs = [X_input], outputs = X, name='TfIdf')\n",
        "\n",
        "    return model"
      ],
      "execution_count": null,
      "outputs": []
    },
    {
      "cell_type": "code",
      "metadata": {
        "id": "rjpjdb-FpYjC"
      },
      "source": [
        "tfIdfModel = tfIdf((train_tfIdfPca.shape[1]))"
      ],
      "execution_count": null,
      "outputs": []
    },
    {
      "cell_type": "code",
      "metadata": {
        "colab": {
          "base_uri": "https://localhost:8080/"
        },
        "id": "ct1iEC8zpaLk",
        "outputId": "efb5e1fa-5a05-4798-c051-fb7180ed28e5"
      },
      "source": [
        "print(tfIdfModel.summary())"
      ],
      "execution_count": null,
      "outputs": [
        {
          "output_type": "stream",
          "text": [
            "Model: \"TfIdf\"\n",
            "_________________________________________________________________\n",
            "Layer (type)                 Output Shape              Param #   \n",
            "=================================================================\n",
            "input_2 (InputLayer)         [(None, 50)]              0         \n",
            "_________________________________________________________________\n",
            "dense_1 (Dense)              (None, 500)               25500     \n",
            "_________________________________________________________________\n",
            "leaky_re_lu_2 (LeakyReLU)    (None, 500)               0         \n",
            "_________________________________________________________________\n",
            "cnn_dense_2 (Dense)          (None, 250)               125250    \n",
            "_________________________________________________________________\n",
            "leaky_re_lu_3 (LeakyReLU)    (None, 250)               0         \n",
            "_________________________________________________________________\n",
            "cnn_dense_3 (Dense)          (None, 50)                12550     \n",
            "_________________________________________________________________\n",
            "dropout_cnn (Dropout)        (None, 50)                0         \n",
            "_________________________________________________________________\n",
            "fc (Dense)                   (None, 2)                 102       \n",
            "=================================================================\n",
            "Total params: 163,402\n",
            "Trainable params: 163,402\n",
            "Non-trainable params: 0\n",
            "_________________________________________________________________\n",
            "None\n"
          ],
          "name": "stdout"
        }
      ]
    },
    {
      "cell_type": "code",
      "metadata": {
        "colab": {
          "base_uri": "https://localhost:8080/"
        },
        "id": "O8CxK_evpcvc",
        "outputId": "a357afa8-833d-465f-9259-9001225a5a24"
      },
      "source": [
        "adam = Adam(lr=1e-4)"
      ],
      "execution_count": null,
      "outputs": [
        {
          "output_type": "stream",
          "text": [
            "/usr/local/lib/python3.7/dist-packages/tensorflow/python/keras/optimizer_v2/optimizer_v2.py:375: UserWarning: The `lr` argument is deprecated, use `learning_rate` instead.\n",
            "  \"The `lr` argument is deprecated, use `learning_rate` instead.\")\n"
          ],
          "name": "stderr"
        }
      ]
    },
    {
      "cell_type": "code",
      "metadata": {
        "id": "kYdFGAampfE6"
      },
      "source": [
        "tfIdfModel.compile(optimizer = adam, loss = \"CategoricalCrossentropy\", metrics = [\"categorical_crossentropy\"])"
      ],
      "execution_count": null,
      "outputs": []
    },
    {
      "cell_type": "code",
      "metadata": {
        "id": "wzLLohv0pheh"
      },
      "source": [
        "version = \"tfIdfPCAModel\""
      ],
      "execution_count": null,
      "outputs": []
    },
    {
      "cell_type": "code",
      "metadata": {
        "id": "BPGY2UpApldo"
      },
      "source": [
        "mc = callbacks.ModelCheckpoint(\"/content/drive/My Drive/Side Projects/FinancialNewsSentiment/\" + str(version) + '.h5', \n",
        "                                 save_weights_only=True, save_best_only=True,monitor='val_loss', mode='min', verbose = 1)\n",
        "es = callbacks.EarlyStopping(monitor='val_loss', patience=5, verbose=1)"
      ],
      "execution_count": null,
      "outputs": []
    },
    {
      "cell_type": "code",
      "metadata": {
        "colab": {
          "base_uri": "https://localhost:8080/"
        },
        "id": "J-zUBk-LpnO3",
        "outputId": "1c586405-4671-4b90-a95f-e07359266284"
      },
      "source": [
        "tfIdfModel.fit(x = train_tfIdfPca  , y = train_y, epochs = 50, batch_size = 32, validation_split=0.1, callbacks=[mc, es])"
      ],
      "execution_count": null,
      "outputs": [
        {
          "output_type": "stream",
          "text": [
            "Epoch 1/50\n",
            "113/113 [==============================] - 2s 8ms/step - loss: 1.3336 - categorical_crossentropy: 1.3290 - val_loss: 0.2216 - val_categorical_crossentropy: 0.2167\n",
            "\n",
            "Epoch 00001: val_loss improved from inf to 0.22157, saving model to /content/drive/My Drive/Side Projects/FinancialNewsSentiment/tfIdfPCAModel.h5\n",
            "Epoch 2/50\n",
            "113/113 [==============================] - 1s 5ms/step - loss: 1.1274 - categorical_crossentropy: 1.1228 - val_loss: 0.9677 - val_categorical_crossentropy: 0.9628\n",
            "\n",
            "Epoch 00002: val_loss did not improve from 0.22157\n",
            "Epoch 3/50\n",
            "113/113 [==============================] - 1s 5ms/step - loss: 3.3450 - categorical_crossentropy: 3.3405 - val_loss: 1.2977 - val_categorical_crossentropy: 1.2927\n",
            "\n",
            "Epoch 00003: val_loss did not improve from 0.22157\n",
            "Epoch 4/50\n",
            "113/113 [==============================] - 1s 5ms/step - loss: 4.4272 - categorical_crossentropy: 4.4225 - val_loss: 0.5120 - val_categorical_crossentropy: 0.5068\n",
            "\n",
            "Epoch 00004: val_loss did not improve from 0.22157\n",
            "Epoch 5/50\n",
            "113/113 [==============================] - 1s 5ms/step - loss: 1.4620 - categorical_crossentropy: 1.4570 - val_loss: 1.1618 - val_categorical_crossentropy: 1.1565\n",
            "\n",
            "Epoch 00005: val_loss did not improve from 0.22157\n",
            "Epoch 6/50\n",
            "113/113 [==============================] - 1s 5ms/step - loss: 2.3177 - categorical_crossentropy: 2.3125 - val_loss: 1.4148 - val_categorical_crossentropy: 1.4094\n",
            "\n",
            "Epoch 00006: val_loss did not improve from 0.22157\n",
            "Epoch 00006: early stopping\n"
          ],
          "name": "stdout"
        },
        {
          "output_type": "execute_result",
          "data": {
            "text/plain": [
              "<tensorflow.python.keras.callbacks.History at 0x7f1057535f90>"
            ]
          },
          "metadata": {
            "tags": []
          },
          "execution_count": 54
        }
      ]
    },
    {
      "cell_type": "code",
      "metadata": {
        "id": "SpRFOjBbysZe"
      },
      "source": [
        "tfIdfModel.load_weights(\"/content/drive/My Drive/Side Projects/FinancialNewsSentiment/\" + str(version) + '.h5')"
      ],
      "execution_count": null,
      "outputs": []
    },
    {
      "cell_type": "code",
      "metadata": {
        "id": "aBe8JGnryv41"
      },
      "source": [
        "predictions = tfIdfModel.predict(test_tfIdfPca)"
      ],
      "execution_count": null,
      "outputs": []
    },
    {
      "cell_type": "code",
      "metadata": {
        "colab": {
          "base_uri": "https://localhost:8080/"
        },
        "id": "OGDohmR1y4kg",
        "outputId": "c346aba1-8be8-403f-d138-6c2d74125f8a"
      },
      "source": [
        "performanceDictionary = computeAccuracyNN(predictions, test_y, \"NN_tfidfpca\", performanceDictionary)"
      ],
      "execution_count": null,
      "outputs": [
        {
          "output_type": "stream",
          "text": [
            "Accuracy: 0.9484732824427481\n"
          ],
          "name": "stdout"
        }
      ]
    },
    {
      "cell_type": "code",
      "metadata": {
        "colab": {
          "base_uri": "https://localhost:8080/",
          "height": 467
        },
        "id": "HKgI6GPlf_ZD",
        "outputId": "79e4d9ac-e01c-4743-eca2-bab564cc43c3"
      },
      "source": [
        "createAndPlotCM(predictions, test_y)"
      ],
      "execution_count": null,
      "outputs": [
        {
          "output_type": "display_data",
          "data": {
            "image/png": "[encoded data removed]",
            "text/plain": [
              "<Figure size 576x432 with 2 Axes>"
            ]
          },
          "metadata": {
            "tags": [],
            "needs_background": "light"
          }
        }
      ]
    },
    {
      "cell_type": "code",
      "metadata": {
        "colab": {
          "base_uri": "https://localhost:8080/"
        },
        "id": "6dusjan6gCIR",
        "outputId": "3baf188c-66c9-459c-ac50-fbb4cd88cf9b"
      },
      "source": [
        "performanceDictionary = assesRecallPrecisionF1Score(test_y,predictions, \"NN_tfidfpca\", performanceDictionary)"
      ],
      "execution_count": null,
      "outputs": [
        {
          "output_type": "stream",
          "text": [
            "F1_weighted: 0.945164909998565\n",
            "F1_micro: 0.9484732824427481\n",
            "F1_macro: 0.8762304587070355\n",
            "\n",
            "Recall_weighted: 0.9484732824427481\n",
            "Recall_micro: 0.9484732824427481\n",
            "Recall_macro: 0.8355926582304719\n",
            "\n",
            "Precision_weighted: 0.9472771388854304\n",
            "Precision_micro: 0.9484732824427481\n",
            "Precision_macro: 0.9348154978246468\n"
          ],
          "name": "stdout"
        }
      ]
    },
    {
      "cell_type": "markdown",
      "metadata": {
        "id": "RZIB3L6rpyAR"
      },
      "source": [
        "## Word Embeddings"
      ]
    },
    {
      "cell_type": "code",
      "metadata": {
        "id": "9dTivHQTpp6C"
      },
      "source": [
        "def WordEmbeddingsMod(input_shape_LSTM, input_shape_CNN):\n",
        "\n",
        "    fusion_layer_neurons = 50\n",
        "\n",
        "    X_input_LSTM = Input(input_shape_LSTM)\n",
        "    X_input_CNN = Input(input_shape_CNN)\n",
        "\n",
        "    X_LSTM = LSTM(units = 600, return_sequences=True, name = 'lstm_1')(X_input_LSTM)\n",
        "\n",
        "    X_CNN = Conv1D(32, kernel_size = 2, name = 'conv_1', input_shape = (21,1))(X_input_CNN)\n",
        "    X_CNN = Conv1D(32, kernel_size = 4, name = 'conv_2')(X_CNN)\n",
        "\n",
        "    X_LSTM = Flatten(name = \"lstm_flatten_1\")(X_LSTM)\n",
        "    X_LSTM = LeakyReLU(alpha=0.2)(X_LSTM)\n",
        "    X_LSTM = Dense(fusion_layer_neurons, activity_regularizer=l2(0.01), name = \"lstm_dense_2\")(X_LSTM)\n",
        "    X_LSTM = Dropout(0.5, name='dropout_lstm')(X_LSTM)\n",
        "\n",
        "    X_CNN = Flatten(name = \"cnn_flatten_1\")(X_CNN)\n",
        "    X_CNN = LeakyReLU(alpha=0.2)(X_CNN)\n",
        "    X_CNN = Dense(fusion_layer_neurons, activity_regularizer=l2(0.01), name = \"cnn_dense_2\")(X_CNN)\n",
        "    X_CNN = Dropout(0.5, name='dropout_cnn')(X_CNN)\n",
        "\n",
        "    X = Add(name = \"fusion\")([X_LSTM, X_CNN])\n",
        "\n",
        "    X = Dense(2, name='fc')(X)\n",
        "\n",
        "    model = Model(inputs = [X_input_LSTM, X_input_CNN], outputs = X, name='WordEmbeddings')\n",
        "\n",
        "    return model"
      ],
      "execution_count": null,
      "outputs": []
    },
    {
      "cell_type": "code",
      "metadata": {
        "id": "idZGOSvPp3MN"
      },
      "source": [
        "WordEmbeddingsModel = WordEmbeddingsMod((train_wordEmbeddings.shape[1],train_wordEmbeddings.shape[2]),(train_wordEmbeddings.shape[1],train_wordEmbeddings.shape[2]))"
      ],
      "execution_count": null,
      "outputs": []
    },
    {
      "cell_type": "code",
      "metadata": {
        "colab": {
          "base_uri": "https://localhost:8080/"
        },
        "id": "Ev2M_xmep62u",
        "outputId": "d2aa12fc-0620-405f-db36-2c6dd51d700e"
      },
      "source": [
        "print(WordEmbeddingsModel.summary())"
      ],
      "execution_count": null,
      "outputs": [
        {
          "output_type": "stream",
          "text": [
            "Model: \"WordEmbeddings\"\n",
            "__________________________________________________________________________________________________\n",
            "Layer (type)                    Output Shape         Param #     Connected to                     \n",
            "==================================================================================================\n",
            "input_4 (InputLayer)            [(None, 15, 300)]    0                                            \n",
            "__________________________________________________________________________________________________\n",
            "input_3 (InputLayer)            [(None, 15, 300)]    0                                            \n",
            "__________________________________________________________________________________________________\n",
            "conv_1 (Conv1D)                 (None, 14, 32)       19232       input_4[0][0]                    \n",
            "__________________________________________________________________________________________________\n",
            "lstm_1 (LSTM)                   (None, 15, 600)      2162400     input_3[0][0]                    \n",
            "__________________________________________________________________________________________________\n",
            "conv_2 (Conv1D)                 (None, 11, 32)       4128        conv_1[0][0]                     \n",
            "__________________________________________________________________________________________________\n",
            "lstm_flatten_1 (Flatten)        (None, 9000)         0           lstm_1[0][0]                     \n",
            "__________________________________________________________________________________________________\n",
            "cnn_flatten_1 (Flatten)         (None, 352)          0           conv_2[0][0]                     \n",
            "__________________________________________________________________________________________________\n",
            "leaky_re_lu_4 (LeakyReLU)       (None, 9000)         0           lstm_flatten_1[0][0]             \n",
            "__________________________________________________________________________________________________\n",
            "leaky_re_lu_5 (LeakyReLU)       (None, 352)          0           cnn_flatten_1[0][0]              \n",
            "__________________________________________________________________________________________________\n",
            "lstm_dense_2 (Dense)            (None, 50)           450050      leaky_re_lu_4[0][0]              \n",
            "__________________________________________________________________________________________________\n",
            "cnn_dense_2 (Dense)             (None, 50)           17650       leaky_re_lu_5[0][0]              \n",
            "__________________________________________________________________________________________________\n",
            "dropout_lstm (Dropout)          (None, 50)           0           lstm_dense_2[0][0]               \n",
            "__________________________________________________________________________________________________\n",
            "dropout_cnn (Dropout)           (None, 50)           0           cnn_dense_2[0][0]                \n",
            "__________________________________________________________________________________________________\n",
            "fusion (Add)                    (None, 50)           0           dropout_lstm[0][0]               \n",
            "                                                                 dropout_cnn[0][0]                \n",
            "__________________________________________________________________________________________________\n",
            "fc (Dense)                      (None, 2)            102         fusion[0][0]                     \n",
            "==================================================================================================\n",
            "Total params: 2,653,562\n",
            "Trainable params: 2,653,562\n",
            "Non-trainable params: 0\n",
            "__________________________________________________________________________________________________\n",
            "None\n"
          ],
          "name": "stdout"
        }
      ]
    },
    {
      "cell_type": "code",
      "metadata": {
        "colab": {
          "base_uri": "https://localhost:8080/"
        },
        "id": "7eLPhMwRp9qm",
        "outputId": "1b173c78-1004-4638-aaab-812b50724320"
      },
      "source": [
        "adam = Adam(lr=1e-4)"
      ],
      "execution_count": null,
      "outputs": [
        {
          "output_type": "stream",
          "text": [
            "/usr/local/lib/python3.7/dist-packages/tensorflow/python/keras/optimizer_v2/optimizer_v2.py:375: UserWarning: The `lr` argument is deprecated, use `learning_rate` instead.\n",
            "  \"The `lr` argument is deprecated, use `learning_rate` instead.\")\n"
          ],
          "name": "stderr"
        }
      ]
    },
    {
      "cell_type": "code",
      "metadata": {
        "id": "c6GScxWSqAGR"
      },
      "source": [
        "WordEmbeddingsModel.compile(optimizer = adam, loss = \"CategoricalCrossentropy\", metrics = [\"categorical_crossentropy\"])"
      ],
      "execution_count": null,
      "outputs": []
    },
    {
      "cell_type": "code",
      "metadata": {
        "id": "PR7f_igzqDHP"
      },
      "source": [
        "version = \"WordEmbeddingsModel\""
      ],
      "execution_count": null,
      "outputs": []
    },
    {
      "cell_type": "code",
      "metadata": {
        "id": "AsRHLkZcqELG"
      },
      "source": [
        "mc = callbacks.ModelCheckpoint(\"/content/drive/My Drive/Side Projects/FinancialNewsSentiment/\" + str(version) + '.h5', \n",
        "                                 save_weights_only=True, save_best_only=True,monitor='val_loss', mode='min', verbose = 1)\n",
        "es = callbacks.EarlyStopping(monitor='val_loss', patience=3, verbose=1)"
      ],
      "execution_count": null,
      "outputs": []
    },
    {
      "cell_type": "code",
      "metadata": {
        "colab": {
          "base_uri": "https://localhost:8080/"
        },
        "id": "8JDyyQtvqFiV",
        "outputId": "a1717660-8f1a-4d15-dd18-31eed8cd7046"
      },
      "source": [
        "WordEmbeddingsModel.fit(x = [train_wordEmbeddings,train_wordEmbeddings]  , y = train_y, epochs = 50, batch_size = 64, validation_split=0.1, callbacks=[mc, es])"
      ],
      "execution_count": null,
      "outputs": [
        {
          "output_type": "stream",
          "text": [
            "Epoch 1/50\n",
            "57/57 [==============================] - 23s 356ms/step - loss: 3.1339 - categorical_crossentropy: 3.1227 - val_loss: 2.9308 - val_categorical_crossentropy: 2.9198\n",
            "\n",
            "Epoch 00001: val_loss improved from inf to 2.93078, saving model to /content/drive/My Drive/Side Projects/FinancialNewsSentiment/WordEmbeddingsModel.h5\n",
            "Epoch 2/50\n",
            "57/57 [==============================] - 20s 343ms/step - loss: 3.2919 - categorical_crossentropy: 3.2805 - val_loss: 2.9283 - val_categorical_crossentropy: 2.9173\n",
            "\n",
            "Epoch 00002: val_loss improved from 2.93078 to 2.92827, saving model to /content/drive/My Drive/Side Projects/FinancialNewsSentiment/WordEmbeddingsModel.h5\n",
            "Epoch 3/50\n",
            "57/57 [==============================] - 21s 360ms/step - loss: 2.9840 - categorical_crossentropy: 2.9721 - val_loss: 1.7608 - val_categorical_crossentropy: 1.7490\n",
            "\n",
            "Epoch 00003: val_loss improved from 2.92827 to 1.76085, saving model to /content/drive/My Drive/Side Projects/FinancialNewsSentiment/WordEmbeddingsModel.h5\n",
            "Epoch 4/50\n",
            "57/57 [==============================] - 21s 364ms/step - loss: 2.2386 - categorical_crossentropy: 2.2258 - val_loss: 2.3678 - val_categorical_crossentropy: 2.3561\n",
            "\n",
            "Epoch 00004: val_loss did not improve from 1.76085\n",
            "Epoch 5/50\n",
            "57/57 [==============================] - 20s 347ms/step - loss: 2.9527 - categorical_crossentropy: 2.9402 - val_loss: 2.2792 - val_categorical_crossentropy: 2.2668\n",
            "\n",
            "Epoch 00005: val_loss did not improve from 1.76085\n",
            "Epoch 6/50\n",
            "57/57 [==============================] - 20s 353ms/step - loss: 2.3540 - categorical_crossentropy: 2.3382 - val_loss: 0.7808 - val_categorical_crossentropy: 0.7638\n",
            "\n",
            "Epoch 00006: val_loss improved from 1.76085 to 0.78083, saving model to /content/drive/My Drive/Side Projects/FinancialNewsSentiment/WordEmbeddingsModel.h5\n",
            "Epoch 7/50\n",
            "57/57 [==============================] - 21s 362ms/step - loss: 1.5123 - categorical_crossentropy: 1.4942 - val_loss: 0.7681 - val_categorical_crossentropy: 0.7507\n",
            "\n",
            "Epoch 00007: val_loss improved from 0.78083 to 0.76808, saving model to /content/drive/My Drive/Side Projects/FinancialNewsSentiment/WordEmbeddingsModel.h5\n",
            "Epoch 8/50\n",
            "57/57 [==============================] - 20s 349ms/step - loss: 1.1891 - categorical_crossentropy: 1.1701 - val_loss: 0.5951 - val_categorical_crossentropy: 0.5764\n",
            "\n",
            "Epoch 00008: val_loss improved from 0.76808 to 0.59514, saving model to /content/drive/My Drive/Side Projects/FinancialNewsSentiment/WordEmbeddingsModel.h5\n",
            "Epoch 9/50\n",
            "57/57 [==============================] - 20s 345ms/step - loss: 0.9304 - categorical_crossentropy: 0.9099 - val_loss: 0.5524 - val_categorical_crossentropy: 0.5331\n",
            "\n",
            "Epoch 00009: val_loss improved from 0.59514 to 0.55242, saving model to /content/drive/My Drive/Side Projects/FinancialNewsSentiment/WordEmbeddingsModel.h5\n",
            "Epoch 10/50\n",
            "57/57 [==============================] - 19s 339ms/step - loss: 0.9033 - categorical_crossentropy: 0.8829 - val_loss: 0.6070 - val_categorical_crossentropy: 0.5882\n",
            "\n",
            "Epoch 00010: val_loss did not improve from 0.55242\n",
            "Epoch 11/50\n",
            "57/57 [==============================] - 19s 337ms/step - loss: 1.1098 - categorical_crossentropy: 1.0902 - val_loss: 0.7848 - val_categorical_crossentropy: 0.7665\n",
            "\n",
            "Epoch 00011: val_loss did not improve from 0.55242\n",
            "Epoch 12/50\n",
            "57/57 [==============================] - 20s 347ms/step - loss: 1.0984 - categorical_crossentropy: 1.0782 - val_loss: 0.6595 - val_categorical_crossentropy: 0.6404\n",
            "\n",
            "Epoch 00012: val_loss did not improve from 0.55242\n",
            "Epoch 00012: early stopping\n"
          ],
          "name": "stdout"
        },
        {
          "output_type": "execute_result",
          "data": {
            "text/plain": [
              "<tensorflow.python.keras.callbacks.History at 0x7f105638ef50>"
            ]
          },
          "metadata": {
            "tags": []
          },
          "execution_count": 67
        }
      ]
    },
    {
      "cell_type": "code",
      "metadata": {
        "id": "HmQDcwCEaNrx"
      },
      "source": [
        "WordEmbeddingsModel.load_weights(\"/content/drive/My Drive/Side Projects/FinancialNewsSentiment/\" + str(version) + '.h5')"
      ],
      "execution_count": null,
      "outputs": []
    },
    {
      "cell_type": "code",
      "metadata": {
        "id": "iriihwkiqnhb"
      },
      "source": [
        "predictions = WordEmbeddingsModel.predict([test_wordEmbeddings,test_wordEmbeddings])"
      ],
      "execution_count": null,
      "outputs": []
    },
    {
      "cell_type": "code",
      "metadata": {
        "colab": {
          "base_uri": "https://localhost:8080/"
        },
        "id": "fb0bY4-CZyXE",
        "outputId": "e150c2eb-52f1-408f-9d16-0f1efa88e886"
      },
      "source": [
        "performanceDictionary = computeAccuracyNN(predictions, test_y, \"NN_embeddings\", performanceDictionary)"
      ],
      "execution_count": null,
      "outputs": [
        {
          "output_type": "stream",
          "text": [
            "Accuracy: 0.8772264631043257\n"
          ],
          "name": "stdout"
        }
      ]
    },
    {
      "cell_type": "code",
      "metadata": {
        "id": "tvJfy71oZ4zh",
        "colab": {
          "base_uri": "https://localhost:8080/",
          "height": 467
        },
        "outputId": "9ee088a6-64d6-4a1c-af53-0c9add8d1b6d"
      },
      "source": [
        "createAndPlotCM(predictions, test_y)"
      ],
      "execution_count": null,
      "outputs": [
        {
          "output_type": "display_data",
          "data": {
            "image/png": "[encoded data removed]",
            "text/plain": [
              "<Figure size 576x432 with 2 Axes>"
            ]
          },
          "metadata": {
            "tags": [],
            "needs_background": "light"
          }
        }
      ]
    },
    {
      "cell_type": "code",
      "metadata": {
        "id": "93qK1n-0arJI",
        "colab": {
          "base_uri": "https://localhost:8080/"
        },
        "outputId": "74444c9c-0a5d-4c65-d665-06663b5b136c"
      },
      "source": [
        "performanceDictionary = assesRecallPrecisionF1Score(test_y,predictions, \"NN_embeddings\", performanceDictionary)"
      ],
      "execution_count": null,
      "outputs": [
        {
          "output_type": "stream",
          "text": [
            "F1_weighted: 0.8396947031172699\n",
            "F1_micro: 0.8772264631043256\n",
            "F1_macro: 0.5881660660110358\n",
            "\n",
            "Recall_weighted: 0.8772264631043257\n",
            "Recall_micro: 0.8772264631043257\n",
            "Recall_macro: 0.5687228596005762\n",
            "\n",
            "Precision_weighted: 0.8616765026621336\n",
            "Precision_micro: 0.8772264631043257\n",
            "Precision_macro: 0.8095704948646125\n"
          ],
          "name": "stdout"
        }
      ]
    },
    {
      "cell_type": "markdown",
      "metadata": {
        "id": "wynhPV-dhhJF"
      },
      "source": [
        "# Comparison of models' performance, conclusion and further research"
      ]
    },
    {
      "cell_type": "code",
      "metadata": {
        "id": "4DTmKMlchs1w"
      },
      "source": [
        "performance_names = [\"NN_tfidf_f1_macro\", \n",
        "                     \"NN_tfidfpca_f1_macro\", \n",
        "                     \"NN_embeddings_f1_macro\", \n",
        "                     \"RF_tfidf_f1_macro\", \n",
        "                     \"RF_tfidfpca_f1_macro\",\n",
        "                     \"RF_embeddings_f1_macro\"]\n",
        "\n",
        "performance_values = [performanceDictionary[\"NN_tfidf_f1_macro\"],\n",
        "                      performanceDictionary[\"NN_tfidfpca_f1_macro\"],\n",
        "                      performanceDictionary[\"NN_embeddings_f1_macro\"],\n",
        "                      performanceDictionary[\"RF_tfidf_f1_macro\"],\n",
        "                      performanceDictionary[\"RF_tfidfpca_f1_macro\"],\n",
        "                      performanceDictionary[\"RF_embeddings_f1_macro\"]]"
      ],
      "execution_count": null,
      "outputs": []
    },
    {
      "cell_type": "code",
      "metadata": {
        "colab": {
          "base_uri": "https://localhost:8080/",
          "height": 405
        },
        "id": "P1QtSv4-hpHu",
        "outputId": "17cce254-4a97-4606-fa4f-7c8792146df7"
      },
      "source": [
        "plt.xticks(rotation='vertical')\n",
        "plt.bar(performance_names,performance_values)"
      ],
      "execution_count": null,
      "outputs": [
        {
          "output_type": "execute_result",
          "data": {
            "text/plain": [
              "<BarContainer object of 6 artists>"
            ]
          },
          "metadata": {
            "tags": []
          },
          "execution_count": 89
        },
        {
          "output_type": "display_data",
          "data": {
            "image/png": "[encoded data removed]",
            "text/plain": [
              "<Figure size 432x288 with 1 Axes>"
            ]
          },
          "metadata": {
            "tags": [],
            "needs_background": "light"
          }
        }
      ]
    },
    {
      "cell_type": "markdown",
      "metadata": {
        "id": "wMo-TY9bi41w"
      },
      "source": [
        "As you could see from the bar plot above, the best performing model is RF model with TF-IDF features (performs slightly better than TF-IDF with PCA). It is also interesting that all RF models perform better than NN models. \n",
        "\n",
        "## Next steps\n",
        "* Investigate why RFC performs better than NN. \n",
        "* Experiment with different NN architectures.\n",
        "* Try more more different preprocessing and feature engineering techniques."
      ]
    }
  ]
}